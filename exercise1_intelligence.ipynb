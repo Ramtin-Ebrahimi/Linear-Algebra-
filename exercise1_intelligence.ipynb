{
 "cells": [
  {
   "cell_type": "markdown",
   "id": "bb645c8c",
   "metadata": {},
   "source": [
    "## Exercises"
   ]
  },
  {
   "cell_type": "markdown",
   "id": "2368625e",
   "metadata": {},
   "source": [
    "### Importing"
   ]
  },
  {
   "cell_type": "code",
   "execution_count": 68,
   "id": "494a8249",
   "metadata": {},
   "outputs": [],
   "source": [
    "import numpy as np"
   ]
  },
  {
   "cell_type": "markdown",
   "id": "67746c27",
   "metadata": {},
   "source": [
    "### Matrix Multiplication"
   ]
  },
  {
   "cell_type": "code",
   "execution_count": 69,
   "id": "82b4b855",
   "metadata": {},
   "outputs": [
    {
     "name": "stdout",
     "output_type": "stream",
     "text": [
      "[[3 2 1 5]\n",
      " [9 1 3 0]]\n",
      "--------------------\n",
      "[[2 9 0]\n",
      " [1 3 5]\n",
      " [2 4 7]\n",
      " [8 1 5]]\n",
      "--------------------\n",
      "[[50 42 42]\n",
      " [25 96 26]]\n"
     ]
    }
   ],
   "source": [
    "mat1 = np.array([\n",
    "        [3,2,1,5],\n",
    "        [9,1,3,0]\n",
    "        ])\n",
    "mat2 = np.array([\n",
    "        [2,9,0],\n",
    "        [1,3,5],\n",
    "        [2,4,7],\n",
    "        [8,1,5]\n",
    "        ])\n",
    "\n",
    "resault = np.dot(mat1,mat2)\n",
    "print(mat1)\n",
    "print(20*'-')\n",
    "print(mat2)\n",
    "print(20*'-')\n",
    "print(resault)"
   ]
  },
  {
   "cell_type": "markdown",
   "id": "ab056c93",
   "metadata": {},
   "source": [
    "### Matrix Determinan"
   ]
  },
  {
   "cell_type": "code",
   "execution_count": 70,
   "id": "2589cc0f",
   "metadata": {},
   "outputs": [
    {
     "name": "stdout",
     "output_type": "stream",
     "text": [
      "[[ 3  8 -6]\n",
      " [ 4 10 -1]\n",
      " [-1  9  7]]\n",
      "--------------------\n",
      "-254.99999999999991\n"
     ]
    }
   ],
   "source": [
    "mat = np.array([\n",
    "                    [3,8,-6],\n",
    "                    [4,10,-1],\n",
    "                    [-1,9,7]\n",
    "                ])\n",
    "\n",
    "print(mat)\n",
    "print(20*'-')\n",
    "print(np.linalg.det(mat)) "
   ]
  },
  {
   "cell_type": "markdown",
   "id": "3a035bd8",
   "metadata": {},
   "source": [
    "### Matrix Invers"
   ]
  },
  {
   "cell_type": "code",
   "execution_count": 51,
   "id": "e41f88d9",
   "metadata": {},
   "outputs": [
    {
     "name": "stdout",
     "output_type": "stream",
     "text": [
      "[[2 3 1]\n",
      " [3 4 1]\n",
      " [3 7 2]]\n",
      "--------------------\n",
      "[[ 0.5  0.5 -0.5]\n",
      " [-1.5  0.5  0.5]\n",
      " [ 4.5 -2.5 -0.5]]\n"
     ]
    }
   ],
   "source": [
    "mat = np.array([\n",
    "                    [2,3,1],\n",
    "                    [3,4,1],\n",
    "                    [3,7,2]\n",
    "                ])\n",
    "\n",
    "print(mat)\n",
    "print(20*'-')\n",
    "print(np.linalg.inv(mat)) "
   ]
  },
  {
   "cell_type": "markdown",
   "id": "cdf6fb7a",
   "metadata": {},
   "source": [
    "### Eigenvalues"
   ]
  },
  {
   "cell_type": "code",
   "execution_count": 57,
   "id": "b1418f65",
   "metadata": {},
   "outputs": [
    {
     "name": "stdout",
     "output_type": "stream",
     "text": [
      "[[ 0  1]\n",
      " [-2 -3]]\n",
      "--------------------\n",
      "Eigenvalues: [-1. -2.]\n"
     ]
    }
   ],
   "source": [
    "mat = np.array([\n",
    "                    [0,1],\n",
    "                    [-2,-3]\n",
    "                ])\n",
    "\n",
    "print(mat)\n",
    "print(20*'-')\n",
    "w, v = np.linalg.eig(mat)\n",
    "print(f'Eigenvalues: {w}')"
   ]
  },
  {
   "cell_type": "markdown",
   "id": "e0340063",
   "metadata": {},
   "source": [
    "### Matrix Norm"
   ]
  },
  {
   "cell_type": "code",
   "execution_count": 61,
   "id": "76a8722c",
   "metadata": {},
   "outputs": [
    {
     "name": "stdout",
     "output_type": "stream",
     "text": [
      "[[ 5  3  6]\n",
      " [ 0 -2  1]\n",
      " [ 4  7  2]]\n",
      "----------------------------------\n",
      "\n",
      "Norm:\n",
      "12.0\n",
      "----\n",
      "\n",
      "Norm Row:\n",
      "[6.40312424 7.87400787 6.40312424]\n",
      "----------------------------------\n",
      "\n",
      "Norm Col:\n",
      "[8.36660027 2.23606798 8.30662386]\n",
      "----------------------------------\n"
     ]
    }
   ],
   "source": [
    "mat = np.array([\n",
    "                    [5,3,6],\n",
    "                    [0,-2,1],\n",
    "                    [4,7,2]\n",
    "                ])\n",
    "norm = np.linalg.norm(mat)\n",
    "norm_row = np.linalg.norm(mat,axis=0)\n",
    "norm_col = np.linalg.norm(mat,axis=1)\n",
    "\n",
    "print(mat)\n",
    "print(34*'-',end='\\n\\n')\n",
    "\n",
    "print('Norm:')\n",
    "print(norm) \n",
    "print(4*'-',end='\\n\\n')\n",
    "\n",
    "print('Norm Row:')\n",
    "print(norm_row) \n",
    "print(34*'-',end='\\n\\n')\n",
    "\n",
    "print('Norm Col:')\n",
    "print(norm_col) \n",
    "print(34*'-')"
   ]
  },
  {
   "cell_type": "markdown",
   "id": "c5a2c634",
   "metadata": {},
   "source": [
    "### Solve"
   ]
  },
  {
   "cell_type": "code",
   "execution_count": 67,
   "id": "24916184",
   "metadata": {},
   "outputs": [
    {
     "name": "stdout",
     "output_type": "stream",
     "text": [
      "x = 2.0, y = 4.0, z = 12.0\n"
     ]
    }
   ],
   "source": [
    "a = np.array([\n",
    "    [1, -1, 1],\n",
    "    [3, 1, 2],\n",
    "    [-5, 2, -1]\n",
    "])\n",
    "b = np.array([10,34,-14])\n",
    "resault = np.linalg.solve(a,b)\n",
    "x, y, z = resault\n",
    "print(f'x = {x}, y = {y}, z = {z}')"
   ]
  }
 ],
 "metadata": {
  "kernelspec": {
   "display_name": "Python 3",
   "language": "python",
   "name": "python3"
  },
  "language_info": {
   "codemirror_mode": {
    "name": "ipython",
    "version": 3
   },
   "file_extension": ".py",
   "mimetype": "text/x-python",
   "name": "python",
   "nbconvert_exporter": "python",
   "pygments_lexer": "ipython3",
   "version": "3.13.5"
  }
 },
 "nbformat": 4,
 "nbformat_minor": 5
}
